{
 "cells": [
  {
   "cell_type": "code",
   "execution_count": 2,
   "metadata": {},
   "outputs": [],
   "source": [
    "name = input(\"Handle/Email : \")\n",
    "from getpass import getpass\n",
    "pas = getpass(\"Password : \")"
   ]
  },
  {
   "cell_type": "code",
   "execution_count": 9,
   "metadata": {},
   "outputs": [
    {
     "ename": "ElementClickInterceptedException",
     "evalue": "Message: element click intercepted: Element <a href=\"/problemset\">...</a> is not clickable at point (330, 106). Other element would receive the click: <span class=\"source-popup-header\" style=\"\">...</span>\n  (Session info: chrome-headless-shell=125.0.6422.142)\nStacktrace:\n\tGetHandleVerifier [0x00007FF6EBEF1F52+60322]\n\t(No symbol) [0x00007FF6EBE6CEC9]\n\t(No symbol) [0x00007FF6EBD27EBA]\n\t(No symbol) [0x00007FF6EBD7F32E]\n\t(No symbol) [0x00007FF6EBD7CCF2]\n\t(No symbol) [0x00007FF6EBD7A18B]\n\t(No symbol) [0x00007FF6EBD79356]\n\t(No symbol) [0x00007FF6EBD6B491]\n\t(No symbol) [0x00007FF6EBD9C21A]\n\t(No symbol) [0x00007FF6EBD6ADB6]\n\t(No symbol) [0x00007FF6EBD9C430]\n\t(No symbol) [0x00007FF6EBDBBC80]\n\t(No symbol) [0x00007FF6EBD9BFC3]\n\t(No symbol) [0x00007FF6EBD69617]\n\t(No symbol) [0x00007FF6EBD6A211]\n\tGetHandleVerifier [0x00007FF6EC2094AD+3301629]\n\tGetHandleVerifier [0x00007FF6EC2536D3+3605283]\n\tGetHandleVerifier [0x00007FF6EC249450+3563680]\n\tGetHandleVerifier [0x00007FF6EBFA4326+790390]\n\t(No symbol) [0x00007FF6EBE7750F]\n\t(No symbol) [0x00007FF6EBE73404]\n\t(No symbol) [0x00007FF6EBE73592]\n\t(No symbol) [0x00007FF6EBE62F9F]\n\tBaseThreadInitThunk [0x00007FFF96B07344+20]\n\tRtlUserThreadStart [0x00007FFF985826B1+33]\n",
     "output_type": "error",
     "traceback": [
      "\u001b[1;31m---------------------------------------------------------------------------\u001b[0m",
      "\u001b[1;31mElementClickInterceptedException\u001b[0m          Traceback (most recent call last)",
      "Cell \u001b[1;32mIn[9], line 40\u001b[0m\n\u001b[0;32m     37\u001b[0m driver\u001b[38;5;241m.\u001b[39mfind_element(by\u001b[38;5;241m=\u001b[39m\u001b[38;5;124m'\u001b[39m\u001b[38;5;124mxpath\u001b[39m\u001b[38;5;124m'\u001b[39m, value\u001b[38;5;241m=\u001b[39m\u001b[38;5;124m'''\u001b[39m\u001b[38;5;124m//body/div[@id=\u001b[39m\u001b[38;5;124m'\u001b[39m\u001b[38;5;124mfacebox\u001b[39m\u001b[38;5;124m'\u001b[39m\u001b[38;5;124m]/div[1]/a[1]\u001b[39m\u001b[38;5;124m'''\u001b[39m)\u001b[38;5;241m.\u001b[39mclick()\n\u001b[0;32m     38\u001b[0m time\u001b[38;5;241m.\u001b[39msleep(\u001b[38;5;241m5\u001b[39m)\n\u001b[1;32m---> 40\u001b[0m \u001b[43mdriver\u001b[49m\u001b[38;5;241;43m.\u001b[39;49m\u001b[43mfind_element\u001b[49m\u001b[43m(\u001b[49m\u001b[43mby\u001b[49m\u001b[38;5;241;43m=\u001b[39;49m\u001b[38;5;124;43m'\u001b[39;49m\u001b[38;5;124;43mxpath\u001b[39;49m\u001b[38;5;124;43m'\u001b[39;49m\u001b[43m,\u001b[49m\u001b[43m \u001b[49m\u001b[43mvalue\u001b[49m\u001b[38;5;241;43m=\u001b[39;49m\u001b[38;5;124;43m'''\u001b[39;49m\u001b[38;5;124;43m//a[contains(text(),\u001b[39;49m\u001b[38;5;124;43m'\u001b[39;49m\u001b[38;5;124;43mProblemset\u001b[39;49m\u001b[38;5;124;43m'\u001b[39;49m\u001b[38;5;124;43m)]\u001b[39;49m\u001b[38;5;124;43m'''\u001b[39;49m\u001b[43m)\u001b[49m\u001b[38;5;241;43m.\u001b[39;49m\u001b[43mclick\u001b[49m\u001b[43m(\u001b[49m\u001b[43m)\u001b[49m\n\u001b[0;32m     41\u001b[0m time\u001b[38;5;241m.\u001b[39msleep(\u001b[38;5;241m2\u001b[39m)\n\u001b[0;32m     42\u001b[0m driver\u001b[38;5;241m.\u001b[39mfind_element(By\u001b[38;5;241m.\u001b[39mNAME, \u001b[38;5;124m\"\u001b[39m\u001b[38;5;124mminDifficulty\u001b[39m\u001b[38;5;124m\"\u001b[39m)\u001b[38;5;241m.\u001b[39msend_keys(\u001b[38;5;124m'\u001b[39m\u001b[38;5;124m800\u001b[39m\u001b[38;5;124m'\u001b[39m)\n",
      "File \u001b[1;32mc:\\Users\\Admin\\AppData\\Local\\Programs\\Python\\Python312\\Lib\\site-packages\\selenium\\webdriver\\remote\\webelement.py:94\u001b[0m, in \u001b[0;36mWebElement.click\u001b[1;34m(self)\u001b[0m\n\u001b[0;32m     92\u001b[0m \u001b[38;5;28;01mdef\u001b[39;00m \u001b[38;5;21mclick\u001b[39m(\u001b[38;5;28mself\u001b[39m) \u001b[38;5;241m-\u001b[39m\u001b[38;5;241m>\u001b[39m \u001b[38;5;28;01mNone\u001b[39;00m:\n\u001b[0;32m     93\u001b[0m \u001b[38;5;250m    \u001b[39m\u001b[38;5;124;03m\"\"\"Clicks the element.\"\"\"\u001b[39;00m\n\u001b[1;32m---> 94\u001b[0m     \u001b[38;5;28;43mself\u001b[39;49m\u001b[38;5;241;43m.\u001b[39;49m\u001b[43m_execute\u001b[49m\u001b[43m(\u001b[49m\u001b[43mCommand\u001b[49m\u001b[38;5;241;43m.\u001b[39;49m\u001b[43mCLICK_ELEMENT\u001b[49m\u001b[43m)\u001b[49m\n",
      "File \u001b[1;32mc:\\Users\\Admin\\AppData\\Local\\Programs\\Python\\Python312\\Lib\\site-packages\\selenium\\webdriver\\remote\\webelement.py:395\u001b[0m, in \u001b[0;36mWebElement._execute\u001b[1;34m(self, command, params)\u001b[0m\n\u001b[0;32m    393\u001b[0m     params \u001b[38;5;241m=\u001b[39m {}\n\u001b[0;32m    394\u001b[0m params[\u001b[38;5;124m\"\u001b[39m\u001b[38;5;124mid\u001b[39m\u001b[38;5;124m\"\u001b[39m] \u001b[38;5;241m=\u001b[39m \u001b[38;5;28mself\u001b[39m\u001b[38;5;241m.\u001b[39m_id\n\u001b[1;32m--> 395\u001b[0m \u001b[38;5;28;01mreturn\u001b[39;00m \u001b[38;5;28;43mself\u001b[39;49m\u001b[38;5;241;43m.\u001b[39;49m\u001b[43m_parent\u001b[49m\u001b[38;5;241;43m.\u001b[39;49m\u001b[43mexecute\u001b[49m\u001b[43m(\u001b[49m\u001b[43mcommand\u001b[49m\u001b[43m,\u001b[49m\u001b[43m \u001b[49m\u001b[43mparams\u001b[49m\u001b[43m)\u001b[49m\n",
      "File \u001b[1;32mc:\\Users\\Admin\\AppData\\Local\\Programs\\Python\\Python312\\Lib\\site-packages\\selenium\\webdriver\\remote\\webdriver.py:347\u001b[0m, in \u001b[0;36mWebDriver.execute\u001b[1;34m(self, driver_command, params)\u001b[0m\n\u001b[0;32m    345\u001b[0m response \u001b[38;5;241m=\u001b[39m \u001b[38;5;28mself\u001b[39m\u001b[38;5;241m.\u001b[39mcommand_executor\u001b[38;5;241m.\u001b[39mexecute(driver_command, params)\n\u001b[0;32m    346\u001b[0m \u001b[38;5;28;01mif\u001b[39;00m response:\n\u001b[1;32m--> 347\u001b[0m     \u001b[38;5;28;43mself\u001b[39;49m\u001b[38;5;241;43m.\u001b[39;49m\u001b[43merror_handler\u001b[49m\u001b[38;5;241;43m.\u001b[39;49m\u001b[43mcheck_response\u001b[49m\u001b[43m(\u001b[49m\u001b[43mresponse\u001b[49m\u001b[43m)\u001b[49m\n\u001b[0;32m    348\u001b[0m     response[\u001b[38;5;124m\"\u001b[39m\u001b[38;5;124mvalue\u001b[39m\u001b[38;5;124m\"\u001b[39m] \u001b[38;5;241m=\u001b[39m \u001b[38;5;28mself\u001b[39m\u001b[38;5;241m.\u001b[39m_unwrap_value(response\u001b[38;5;241m.\u001b[39mget(\u001b[38;5;124m\"\u001b[39m\u001b[38;5;124mvalue\u001b[39m\u001b[38;5;124m\"\u001b[39m, \u001b[38;5;28;01mNone\u001b[39;00m))\n\u001b[0;32m    349\u001b[0m     \u001b[38;5;28;01mreturn\u001b[39;00m response\n",
      "File \u001b[1;32mc:\\Users\\Admin\\AppData\\Local\\Programs\\Python\\Python312\\Lib\\site-packages\\selenium\\webdriver\\remote\\errorhandler.py:229\u001b[0m, in \u001b[0;36mErrorHandler.check_response\u001b[1;34m(self, response)\u001b[0m\n\u001b[0;32m    227\u001b[0m         alert_text \u001b[38;5;241m=\u001b[39m value[\u001b[38;5;124m\"\u001b[39m\u001b[38;5;124malert\u001b[39m\u001b[38;5;124m\"\u001b[39m]\u001b[38;5;241m.\u001b[39mget(\u001b[38;5;124m\"\u001b[39m\u001b[38;5;124mtext\u001b[39m\u001b[38;5;124m\"\u001b[39m)\n\u001b[0;32m    228\u001b[0m     \u001b[38;5;28;01mraise\u001b[39;00m exception_class(message, screen, stacktrace, alert_text)  \u001b[38;5;66;03m# type: ignore[call-arg]  # mypy is not smart enough here\u001b[39;00m\n\u001b[1;32m--> 229\u001b[0m \u001b[38;5;28;01mraise\u001b[39;00m exception_class(message, screen, stacktrace)\n",
      "\u001b[1;31mElementClickInterceptedException\u001b[0m: Message: element click intercepted: Element <a href=\"/problemset\">...</a> is not clickable at point (330, 106). Other element would receive the click: <span class=\"source-popup-header\" style=\"\">...</span>\n  (Session info: chrome-headless-shell=125.0.6422.142)\nStacktrace:\n\tGetHandleVerifier [0x00007FF6EBEF1F52+60322]\n\t(No symbol) [0x00007FF6EBE6CEC9]\n\t(No symbol) [0x00007FF6EBD27EBA]\n\t(No symbol) [0x00007FF6EBD7F32E]\n\t(No symbol) [0x00007FF6EBD7CCF2]\n\t(No symbol) [0x00007FF6EBD7A18B]\n\t(No symbol) [0x00007FF6EBD79356]\n\t(No symbol) [0x00007FF6EBD6B491]\n\t(No symbol) [0x00007FF6EBD9C21A]\n\t(No symbol) [0x00007FF6EBD6ADB6]\n\t(No symbol) [0x00007FF6EBD9C430]\n\t(No symbol) [0x00007FF6EBDBBC80]\n\t(No symbol) [0x00007FF6EBD9BFC3]\n\t(No symbol) [0x00007FF6EBD69617]\n\t(No symbol) [0x00007FF6EBD6A211]\n\tGetHandleVerifier [0x00007FF6EC2094AD+3301629]\n\tGetHandleVerifier [0x00007FF6EC2536D3+3605283]\n\tGetHandleVerifier [0x00007FF6EC249450+3563680]\n\tGetHandleVerifier [0x00007FF6EBFA4326+790390]\n\t(No symbol) [0x00007FF6EBE7750F]\n\t(No symbol) [0x00007FF6EBE73404]\n\t(No symbol) [0x00007FF6EBE73592]\n\t(No symbol) [0x00007FF6EBE62F9F]\n\tBaseThreadInitThunk [0x00007FFF96B07344+20]\n\tRtlUserThreadStart [0x00007FFF985826B1+33]\n"
     ]
    }
   ],
   "source": [
    "import time\n",
    "import selenium\n",
    "from selenium import webdriver\n",
    "from selenium.webdriver.common.by import By\n",
    "from selenium.webdriver.common.keys import Keys\n",
    "from selenium.webdriver import ActionChains\n",
    "\n",
    "driver = webdriver.Chrome()\n",
    "driver.maximize_window()\n",
    "driver.delete_all_cookies()\n",
    "driver.get('https://codeforces.com/enter?back=%2F')\n",
    "time.sleep(2)\n",
    "driver.find_element(By.NAME, \"handleOrEmail\").send_keys(name)\n",
    "driver.find_element(By.NAME, \"password\").send_keys(pas)\n",
    "driver.find_element(by='xpath', value='//tbody/tr[4]/td[1]/div[1]/input[1]').click()\n",
    "time.sleep(2)\n",
    "driver.find_element(by='xpath', value='''//a[contains(text(),'Problemset')]''').click()\n",
    "time.sleep(2)\n",
    "driver.find_element(By.NAME, \"minDifficulty\").send_keys('800')\n",
    "driver.find_element(By.NAME, \"maxDifficulty\").send_keys('800')\n",
    "\n",
    "driver.find_element(by='xpath', value='''//body/div[@id='body']/div[4]/div[1]/div[2]/div[3]/form[1]/div[4]/input[1]''').click()\n",
    "time.sleep(5)\n",
    "driver.find_element(by='xpath', value='''//tbody/tr[2]/td[5]''').click()\n",
    "time.sleep(3)\n",
    "driver.find_element(by='xpath', value='''//body/div[@id='body']/div[4]/div[2]/div[3]/form[1]/label[1]/input[1]''').click()\n",
    "time.sleep(2)\n",
    "\n",
    "driver.find_element(by='xpath', value='''//tbody/tr[2]/td[1]''').click()\n",
    "time.sleep(2)\n",
    "\n",
    "driver.find_element(by='xpath', value='''//span[@id='program-source-text-copy']''').click()\n",
    "time.sleep(2)\n",
    "driver.find_element(by='xpath', value='''//body/div[@id='facebox']/div[1]/a[1]''').click()\n",
    "time.sleep(2)\n",
    "\n",
    "driver.find_element(by='xpath', value='''//a[contains(text(),'Problemset')]''').click()\n",
    "time.sleep(2)\n",
    "driver.find_element(By.NAME, \"minDifficulty\").send_keys('800')\n",
    "driver.find_element(By.NAME, \"maxDifficulty\").send_keys('800')\n",
    "\n",
    "driver.find_element(by='xpath', value='''//body/div[@id='body']/div[4]/div[1]/div[2]/div[3]/form[1]/div[4]/input[1]''').click()\n",
    "time.sleep(5)\n",
    "driver.find_element(by='xpath', value='''//tbody/tr[2]/td[2]/div[1]''').click()\n",
    "time.sleep(2)\n",
    "driver.find_element(by='xpath', value='''//a[contains(text(),'Submit')]''').click()\n",
    "time.sleep(3)\n",
    "\n",
    "driver.find_element(by='xpath', value='''//tbody/tr[4]/td[2]/div[1]/div[2]''').click()\n",
    "time.sleep(2)\n",
    "\n",
    "act = ActionChains(driver)\n",
    "act.key_down(Keys.CONTROL).send_keys(\"v\").key_up(Keys.CONTROL).perform()\n",
    "\n",
    "\n",
    "driver.find_element(by='xpath', value='''//input[@id='singlePageSubmitButton']''').click()\n",
    "time.sleep(5)\n"
   ]
  }
 ],
 "metadata": {
  "kernelspec": {
   "display_name": "venv",
   "language": "python",
   "name": "python3"
  },
  "language_info": {
   "codemirror_mode": {
    "name": "ipython",
    "version": 3
   },
   "file_extension": ".py",
   "mimetype": "text/x-python",
   "name": "python",
   "nbconvert_exporter": "python",
   "pygments_lexer": "ipython3",
   "version": "3.12.1"
  }
 },
 "nbformat": 4,
 "nbformat_minor": 2
}
